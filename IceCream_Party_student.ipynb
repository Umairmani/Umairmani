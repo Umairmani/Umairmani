{
  "cells": [
    {
      "cell_type": "markdown",
      "metadata": {
        "id": "view-in-github",
        "colab_type": "text"
      },
      "source": [
        "<a href=\"https://colab.research.google.com/github/Umairmani/Umairmani/blob/main/IceCream_Party_student.ipynb\" target=\"_parent\"><img src=\"https://colab.research.google.com/assets/colab-badge.svg\" alt=\"Open In Colab\"/></a>"
      ]
    },
    {
      "cell_type": "markdown",
      "id": "99271576-a9ad-4f53-adf7-5cd73b210a2c",
      "metadata": {
        "id": "99271576-a9ad-4f53-adf7-5cd73b210a2c"
      },
      "source": [
        "# Icer Cream Party\n",
        "\n",
        "A regular box holds 8 ice creams, while a small box holds 3. There are 28 children in a class and at least 28 ice creams needed. Determine how many ice creams will be left over if each student gets one ice cream.\n",
        "\n",
        "*Input Specification*\n",
        "* number of regular boxes\n",
        "* number of small boxes\n",
        "\n",
        "*Output Specification*\n",
        "* Output the number of left over ice creams that are left over\n",
        "\n",
        "\n",
        "## Tasks\n",
        "* Save to Github\n",
        "* Design Algorithm\n",
        "* Write and test the program in Python\n"
      ]
    },
    {
      "cell_type": "code",
      "source": [
        ""
      ],
      "metadata": {
        "id": "bteDAqOVjVO0"
      },
      "id": "bteDAqOVjVO0",
      "execution_count": null,
      "outputs": []
    }
  ],
  "metadata": {
    "kernelspec": {
      "display_name": "Python 3 (ipykernel)",
      "language": "python",
      "name": "python3"
    },
    "language_info": {
      "codemirror_mode": {
        "name": "ipython",
        "version": 3
      },
      "file_extension": ".py",
      "mimetype": "text/x-python",
      "name": "python",
      "nbconvert_exporter": "python",
      "pygments_lexer": "ipython3",
      "version": "3.9.7"
    },
    "colab": {
      "name": "IceCream_Party_student.ipynb",
      "provenance": [],
      "collapsed_sections": [],
      "include_colab_link": true
    }
  },
  "nbformat": 4,
  "nbformat_minor": 5
}